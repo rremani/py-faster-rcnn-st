{
 "cells": [
  {
   "cell_type": "code",
   "execution_count": 1,
   "metadata": {
    "collapsed": false
   },
   "outputs": [],
   "source": [
    "import pandas as pd\n",
    "import numpy as np\n",
    "import matplotlib.pyplot as plt\n",
    "from sklearn.metrics import roc_curve, auc\n",
    "from scipy import interp\n",
    "import os\n",
    "from data_accuracy import *\n",
    "\n",
    "\n",
    "%matplotlib inline"
   ]
  },
  {
   "cell_type": "code",
   "execution_count": 17,
   "metadata": {
    "collapsed": true
   },
   "outputs": [],
   "source": [
    "from scipy import integrate"
   ]
  },
  {
   "cell_type": "markdown",
   "metadata": {},
   "source": [
    "# Loding the original annotated text file"
   ]
  },
  {
   "cell_type": "code",
   "execution_count": 6,
   "metadata": {
    "collapsed": true
   },
   "outputs": [],
   "source": [
    "df_r=pd.read_csv('/home/ce/Documents/py-faster-rcnn/Accuracy_Check/annotationTools/sampleResults/results29-90.csv',sep=';',header=None,dtype=str)"
   ]
  },
  {
   "cell_type": "code",
   "execution_count": 7,
   "metadata": {
    "collapsed": true
   },
   "outputs": [],
   "source": [
    "df_tr=pd.read_csv('/home/ce/Documents/py-faster-rcnn/Accuracy_Check/annotationTools/sampleResults/stop-split2.csv',sep=';',header=None,dtype=str)"
   ]
  },
  {
   "cell_type": "code",
   "execution_count": 4,
   "metadata": {
    "collapsed": false
   },
   "outputs": [
    {
     "name": "stdout",
     "output_type": "stream",
     "text": [
      "Enter the original annotated txt file with path: /home/ce/Documents/py-faster-rcnn/data/GTSDB/data/train_gtsdb.txt\n",
      "Number of files in which signs are annotated 297\n"
     ]
    }
   ],
   "source": [
    "test_file = raw_input(\"Enter the original annotated txt file with path: \")\n",
    "df_test=pd.read_csv(test_file,sep=';',header=None,dtype=str)\n",
    "print 'Number of files in which signs are annotated',len(np.unique(df_test[0]))"
   ]
  },
  {
   "cell_type": "markdown",
   "metadata": {},
   "source": [
    "# Loading the predicted text file"
   ]
  },
  {
   "cell_type": "code",
   "execution_count": 5,
   "metadata": {
    "collapsed": false
   },
   "outputs": [
    {
     "name": "stdout",
     "output_type": "stream",
     "text": [
      "Enter the predicted txt file with path: /home/ce/Documents/py-faster-rcnn/Accuracy_Check/gt.txt\n",
      "Number of files in which signs are detected 741\n"
     ]
    }
   ],
   "source": [
    "test_file_pred = raw_input(\"Enter the predicted txt file with path: \")\n",
    "df_test_pred=pd.read_csv(test_file_pred,sep=';',header=None) #output of the test files\n",
    "print 'Number of files in which signs are detected',len(np.unique(df_test_pred[0]))"
   ]
  },
  {
   "cell_type": "code",
   "execution_count": 3,
   "metadata": {
    "collapsed": false
   },
   "outputs": [
    {
     "name": "stdout",
     "output_type": "stream",
     "text": [
      "Bbox in float is updated to int\n"
     ]
    }
   ],
   "source": [
    "# Updating the BBox which are in float to int\n",
    "df_test_pred[1]=df_test_pred[1].apply(lambda x:get_bbox(x))\n",
    "print 'Bbox in float is updated to int'"
   ]
  },
  {
   "cell_type": "code",
   "execution_count": null,
   "metadata": {
    "collapsed": true
   },
   "outputs": [],
   "source": [
    "print 'Merging duplicates...'\n",
    "print len(df_test_pred)\n",
    "df_test_pred.drop(merge_duplicates(df_test_pred),inplace=True)\n",
    "print len(df_test_pred)"
   ]
  },
  {
   "cell_type": "code",
   "execution_count": 160,
   "metadata": {
    "collapsed": false
   },
   "outputs": [
    {
     "data": {
      "text/html": [
       "<div>\n",
       "<table border=\"1\" class=\"dataframe\">\n",
       "  <thead>\n",
       "    <tr style=\"text-align: right;\">\n",
       "      <th></th>\n",
       "      <th>0</th>\n",
       "      <th>2</th>\n",
       "      <th>0</th>\n",
       "      <th>1</th>\n",
       "      <th>2</th>\n",
       "      <th>3</th>\n",
       "    </tr>\n",
       "  </thead>\n",
       "  <tbody>\n",
       "    <tr>\n",
       "      <th>0</th>\n",
       "      <td>00012</td>\n",
       "      <td>Speed Limit 50</td>\n",
       "      <td>976</td>\n",
       "      <td>365</td>\n",
       "      <td>1041</td>\n",
       "      <td>418</td>\n",
       "    </tr>\n",
       "    <tr>\n",
       "      <th>1</th>\n",
       "      <td>00061</td>\n",
       "      <td>Speed Limit 80</td>\n",
       "      <td>1207</td>\n",
       "      <td>334</td>\n",
       "      <td>1288</td>\n",
       "      <td>409</td>\n",
       "    </tr>\n",
       "    <tr>\n",
       "      <th>2</th>\n",
       "      <td>00064</td>\n",
       "      <td>Speed Limit 50</td>\n",
       "      <td>784</td>\n",
       "      <td>447</td>\n",
       "      <td>802</td>\n",
       "      <td>465</td>\n",
       "    </tr>\n",
       "    <tr>\n",
       "      <th>3</th>\n",
       "      <td>00064</td>\n",
       "      <td>Speed Limit 50</td>\n",
       "      <td>776</td>\n",
       "      <td>455</td>\n",
       "      <td>796</td>\n",
       "      <td>478</td>\n",
       "    </tr>\n",
       "    <tr>\n",
       "      <th>4</th>\n",
       "      <td>00064</td>\n",
       "      <td>Speed Limit 50</td>\n",
       "      <td>789</td>\n",
       "      <td>463</td>\n",
       "      <td>806</td>\n",
       "      <td>481</td>\n",
       "    </tr>\n",
       "  </tbody>\n",
       "</table>\n",
       "</div>"
      ],
      "text/plain": [
       "       0               2     0    1     2    3\n",
       "0  00012  Speed Limit 50   976  365  1041  418\n",
       "1  00061  Speed Limit 80  1207  334  1288  409\n",
       "2  00064  Speed Limit 50   784  447   802  465\n",
       "3  00064  Speed Limit 50   776  455   796  478\n",
       "4  00064  Speed Limit 50   789  463   806  481"
      ]
     },
     "execution_count": 160,
     "metadata": {},
     "output_type": "execute_result"
    }
   ],
   "source": [
    "df_pred = pd.concat([df_test_pred.drop([1,3], axis=1), df_test_pred[1].apply(pd.Series)], axis=1)\n",
    "df_pred.head()"
   ]
  },
  {
   "cell_type": "code",
   "execution_count": 29,
   "metadata": {
    "collapsed": false
   },
   "outputs": [
    {
     "ename": "NameError",
     "evalue": "name 'df_pred' is not defined",
     "output_type": "error",
     "traceback": [
      "\u001b[0;31m---------------------------------------------------------------------------\u001b[0m",
      "\u001b[0;31mNameError\u001b[0m                                 Traceback (most recent call last)",
      "\u001b[0;32m<ipython-input-29-6ee140949d03>\u001b[0m in \u001b[0;36m<module>\u001b[0;34m()\u001b[0m\n\u001b[0;32m----> 1\u001b[0;31m \u001b[0mdf_pred\u001b[0m\u001b[0;34m.\u001b[0m\u001b[0mcolumns\u001b[0m\u001b[0;34m=\u001b[0m\u001b[0;34m[\u001b[0m\u001b[0;36m0\u001b[0m\u001b[0;34m,\u001b[0m\u001b[0;36m1\u001b[0m\u001b[0;34m,\u001b[0m\u001b[0;36m2\u001b[0m\u001b[0;34m,\u001b[0m\u001b[0;36m3\u001b[0m\u001b[0;34m,\u001b[0m\u001b[0;36m4\u001b[0m\u001b[0;34m,\u001b[0m\u001b[0;36m5\u001b[0m\u001b[0;34m]\u001b[0m\u001b[0;34m\u001b[0m\u001b[0m\n\u001b[0m\u001b[1;32m      2\u001b[0m \u001b[0mdf_pred\u001b[0m\u001b[0;34m=\u001b[0m\u001b[0mdf_pred\u001b[0m\u001b[0;34m[\u001b[0m\u001b[0mdf_pred\u001b[0m\u001b[0;34m[\u001b[0m\u001b[0;36m1\u001b[0m\u001b[0;34m]\u001b[0m\u001b[0;34m==\u001b[0m\u001b[0mraw_input\u001b[0m\u001b[0;34m(\u001b[0m\u001b[0;34m'Enter the class: '\u001b[0m\u001b[0;34m)\u001b[0m\u001b[0;34m]\u001b[0m\u001b[0;34m\u001b[0m\u001b[0m\n\u001b[1;32m      3\u001b[0m \u001b[0;34m\u001b[0m\u001b[0m\n\u001b[1;32m      4\u001b[0m \u001b[0mdf_pred\u001b[0m\u001b[0;34m[\u001b[0m\u001b[0;36m0\u001b[0m\u001b[0;34m]\u001b[0m\u001b[0;34m=\u001b[0m\u001b[0mdf_pred\u001b[0m\u001b[0;34m[\u001b[0m\u001b[0;36m1\u001b[0m\u001b[0;34m]\u001b[0m\u001b[0;34m+\u001b[0m\u001b[0;34m'_'\u001b[0m\u001b[0;34m+\u001b[0m\u001b[0mdf_pred\u001b[0m\u001b[0;34m[\u001b[0m\u001b[0;36m0\u001b[0m\u001b[0;34m]\u001b[0m\u001b[0;34m\u001b[0m\u001b[0m\n\u001b[1;32m      5\u001b[0m \u001b[0mdf_pred\u001b[0m\u001b[0;34m=\u001b[0m\u001b[0mdf_pred\u001b[0m\u001b[0;34m.\u001b[0m\u001b[0mdrop\u001b[0m\u001b[0;34m(\u001b[0m\u001b[0;36m1\u001b[0m\u001b[0;34m,\u001b[0m\u001b[0maxis\u001b[0m\u001b[0;34m=\u001b[0m\u001b[0;36m1\u001b[0m\u001b[0;34m)\u001b[0m\u001b[0;34m\u001b[0m\u001b[0m\n",
      "\u001b[0;31mNameError\u001b[0m: name 'df_pred' is not defined"
     ]
    }
   ],
   "source": [
    "df_pred.columns=[0,1,2,3,4,5]\n",
    "df_pred=df_pred[df_pred[1]==raw_input('Enter the class: ')]\n",
    "\n",
    "df_pred[0]=df_pred[1]+'_'+df_pred[0]\n",
    "df_pred=df_pred.drop(1,axis=1)\n",
    "df_pred.head()"
   ]
  },
  {
   "cell_type": "code",
   "execution_count": null,
   "metadata": {
    "collapsed": true
   },
   "outputs": [],
   "source": [
    "df_test_anno=df_test\n",
    "df_test_anno.columns=[0,2,3,4,5,1]\n",
    "df_test_anno.to_csv('/home/ce/Documents/py-faster-rcnn/Accuracy_Check/annotationTools/input_annotations.csv',sep=';',header=True,index=False)\n",
    "df_test[10:].to_csv('/home/ce/Documents/py-faster-rcnn/Accuracy_Check/annotationTools/output_pred.csv',sep=';',header=True,index=False)"
   ]
  },
  {
   "cell_type": "code",
   "execution_count": 46,
   "metadata": {
    "collapsed": false
   },
   "outputs": [
    {
     "name": "stdout",
     "output_type": "stream",
     "text": [
      "Accuracy for detection....\n"
     ]
    }
   ],
   "source": [
    "print 'Accuracy for detection....'"
   ]
  },
  {
   "cell_type": "code",
   "execution_count": 47,
   "metadata": {
    "collapsed": true
   },
   "outputs": [
    {
     "ename": "IndexError",
     "evalue": "list index out of range",
     "output_type": "error",
     "traceback": [
      "\u001b[0;31m---------------------------------------------------------------------------\u001b[0m",
      "\u001b[0;31mIndexError\u001b[0m                                Traceback (most recent call last)",
      "\u001b[0;32m<ipython-input-47-7114ef2e0204>\u001b[0m in \u001b[0;36m<module>\u001b[0;34m()\u001b[0m\n\u001b[1;32m     17\u001b[0m                 \u001b[0mj\u001b[0m\u001b[0;34m=\u001b[0m\u001b[0mnp\u001b[0m\u001b[0;34m.\u001b[0m\u001b[0marray\u001b[0m\u001b[0;34m(\u001b[0m\u001b[0mj\u001b[0m\u001b[0;34m)\u001b[0m\u001b[0;34m[\u001b[0m\u001b[0;36m1\u001b[0m\u001b[0;34m]\u001b[0m\u001b[0;34m\u001b[0m\u001b[0m\n\u001b[1;32m     18\u001b[0m                 \u001b[0mbbox2\u001b[0m\u001b[0;34m=\u001b[0m\u001b[0mget_bbox\u001b[0m\u001b[0;34m(\u001b[0m\u001b[0mlist\u001b[0m\u001b[0;34m(\u001b[0m\u001b[0mj\u001b[0m\u001b[0;34m[\u001b[0m\u001b[0;36m1\u001b[0m\u001b[0;34m:\u001b[0m\u001b[0;36m5\u001b[0m\u001b[0;34m]\u001b[0m\u001b[0;34m)\u001b[0m\u001b[0;34m)\u001b[0m\u001b[0;34m\u001b[0m\u001b[0m\n\u001b[0;32m---> 19\u001b[0;31m                 \u001b[0;32mif\u001b[0m \u001b[0mget_overlap\u001b[0m\u001b[0;34m(\u001b[0m\u001b[0mbbox1\u001b[0m\u001b[0;34m,\u001b[0m\u001b[0mbbox2\u001b[0m\u001b[0;34m)\u001b[0m\u001b[0;34m>\u001b[0m\u001b[0;36m0.5\u001b[0m\u001b[0;34m:\u001b[0m\u001b[0;34m\u001b[0m\u001b[0m\n\u001b[0m\u001b[1;32m     20\u001b[0m                     \u001b[0mtp\u001b[0m\u001b[0;34m+=\u001b[0m\u001b[0;36m1\u001b[0m\u001b[0;34m\u001b[0m\u001b[0m\n\u001b[1;32m     21\u001b[0m                     \u001b[0mflag\u001b[0m\u001b[0;34m[\u001b[0m\u001b[0mstart\u001b[0m\u001b[0;34m]\u001b[0m\u001b[0;34m=\u001b[0m\u001b[0;36m0\u001b[0m\u001b[0;34m\u001b[0m\u001b[0m\n",
      "\u001b[0;32m<ipython-input-45-488271e8ea94>\u001b[0m in \u001b[0;36mget_overlap\u001b[0;34m(l1, l2)\u001b[0m\n\u001b[1;32m      1\u001b[0m \u001b[0;32mdef\u001b[0m \u001b[0mget_overlap\u001b[0m\u001b[0;34m(\u001b[0m\u001b[0ml1\u001b[0m\u001b[0;34m,\u001b[0m\u001b[0ml2\u001b[0m\u001b[0;34m)\u001b[0m\u001b[0;34m:\u001b[0m\u001b[0;34m\u001b[0m\u001b[0m\n\u001b[0;32m----> 2\u001b[0;31m     \u001b[0mxa1\u001b[0m\u001b[0;34m,\u001b[0m\u001b[0mya1\u001b[0m\u001b[0;34m,\u001b[0m\u001b[0mxa2\u001b[0m\u001b[0;34m,\u001b[0m\u001b[0mya2\u001b[0m\u001b[0;34m=\u001b[0m\u001b[0ml1\u001b[0m\u001b[0;34m[\u001b[0m\u001b[0;36m0\u001b[0m\u001b[0;34m]\u001b[0m\u001b[0;34m,\u001b[0m\u001b[0ml1\u001b[0m\u001b[0;34m[\u001b[0m\u001b[0;36m1\u001b[0m\u001b[0;34m]\u001b[0m\u001b[0;34m,\u001b[0m\u001b[0ml1\u001b[0m\u001b[0;34m[\u001b[0m\u001b[0;36m2\u001b[0m\u001b[0;34m]\u001b[0m\u001b[0;34m,\u001b[0m\u001b[0ml1\u001b[0m\u001b[0;34m[\u001b[0m\u001b[0;36m3\u001b[0m\u001b[0;34m]\u001b[0m\u001b[0;34m\u001b[0m\u001b[0m\n\u001b[0m\u001b[1;32m      3\u001b[0m     \u001b[0mxb1\u001b[0m\u001b[0;34m,\u001b[0m\u001b[0myb1\u001b[0m\u001b[0;34m,\u001b[0m\u001b[0mxb2\u001b[0m\u001b[0;34m,\u001b[0m\u001b[0myb2\u001b[0m\u001b[0;34m=\u001b[0m\u001b[0ml2\u001b[0m\u001b[0;34m[\u001b[0m\u001b[0;36m0\u001b[0m\u001b[0;34m]\u001b[0m\u001b[0;34m,\u001b[0m\u001b[0ml2\u001b[0m\u001b[0;34m[\u001b[0m\u001b[0;36m1\u001b[0m\u001b[0;34m]\u001b[0m\u001b[0;34m,\u001b[0m\u001b[0ml2\u001b[0m\u001b[0;34m[\u001b[0m\u001b[0;36m2\u001b[0m\u001b[0;34m]\u001b[0m\u001b[0;34m,\u001b[0m\u001b[0ml2\u001b[0m\u001b[0;34m[\u001b[0m\u001b[0;36m3\u001b[0m\u001b[0;34m]\u001b[0m\u001b[0;34m\u001b[0m\u001b[0m\n\u001b[1;32m      4\u001b[0m     \u001b[0mdx\u001b[0m \u001b[0;34m=\u001b[0m \u001b[0mmin\u001b[0m\u001b[0;34m(\u001b[0m\u001b[0mxa2\u001b[0m\u001b[0;34m,\u001b[0m \u001b[0mxb2\u001b[0m\u001b[0;34m)\u001b[0m \u001b[0;34m-\u001b[0m \u001b[0mmax\u001b[0m\u001b[0;34m(\u001b[0m\u001b[0mxa1\u001b[0m\u001b[0;34m,\u001b[0m \u001b[0mxb1\u001b[0m\u001b[0;34m)\u001b[0m\u001b[0;34m\u001b[0m\u001b[0m\n\u001b[1;32m      5\u001b[0m     \u001b[0mdy\u001b[0m \u001b[0;34m=\u001b[0m \u001b[0mmin\u001b[0m\u001b[0;34m(\u001b[0m\u001b[0mya2\u001b[0m\u001b[0;34m,\u001b[0m \u001b[0myb2\u001b[0m\u001b[0;34m)\u001b[0m \u001b[0;34m-\u001b[0m \u001b[0mmax\u001b[0m\u001b[0;34m(\u001b[0m\u001b[0mya1\u001b[0m\u001b[0;34m,\u001b[0m \u001b[0myb1\u001b[0m\u001b[0;34m)\u001b[0m\u001b[0;34m\u001b[0m\u001b[0m\n",
      "\u001b[0;31mIndexError\u001b[0m: list index out of range"
     ]
    }
   ],
   "source": [
    "for d in [df_test_pred]:\n",
    "    tp=0\n",
    "    fp=0\n",
    "    fn=0\n",
    "    for f in np.unique(d[0]):\n",
    "        d1=df_test[df_test[0]==f]\n",
    "        \n",
    "        d2=d[d[0]==f]      \n",
    "\n",
    "        flag=np.ones(len(d1))\n",
    "        for i in d2.iterrows():\n",
    "            flag2=0\n",
    "            i=np.array(i)[1]\n",
    "            bbox1=get_bbox(i[1])\n",
    "            start=0\n",
    "            for j in d1.iterrows():\n",
    "                j=np.array(j)[1]\n",
    "                bbox2=get_bbox(list(j[1:5]))\n",
    "                if get_overlap(bbox1,bbox2)>0.5:\n",
    "                    tp+=1\n",
    "                    flag[start]=0\n",
    "                    flag2=1\n",
    "                start+=1\n",
    "\n",
    "            if flag2==0:\n",
    "                fp+=1\n",
    "\n",
    "        fn+=np.sum(flag)\n",
    "\n",
    "    print 'tp',tp,'  fp', fp,'   fn',fn\n",
    "    print 'precison',float(tp)/(tp+fp)\n",
    "    print 'recall',float(tp)/(tp+fn)"
   ]
  },
  {
   "cell_type": "code",
   "execution_count": null,
   "metadata": {
    "collapsed": true
   },
   "outputs": [],
   "source": [
    "fpr, tpr, thresholds = roc_curve(y[test], probas_[:, 1])\n",
    "roc_auc = auc(fp, tp)\n",
    "print 'Area under the curve: ' + str(roc_auc)"
   ]
  },
  {
   "cell_type": "code",
   "execution_count": null,
   "metadata": {
    "collapsed": true
   },
   "outputs": [],
   "source": [
    "print 'Accuracy for recognition...'"
   ]
  },
  {
   "cell_type": "code",
   "execution_count": null,
   "metadata": {
    "collapsed": true
   },
   "outputs": [],
   "source": [
    "list1=[]\n",
    "score=0.5\n",
    "for l in training_labels:\n",
    "    tp=0\n",
    "    fp=0\n",
    "    fn=0\n",
    "    counter=0\n",
    "    counter1=0\n",
    "    df_final1=df_test_pred[df_test_pred[2]==l]\n",
    "    df_test1=df_final1[df_final1[3]>score].copy()  #use df_test or df\n",
    "    for f in np.unique(df_test1[0]):\n",
    "        d1=df_test[df_test[0]==f]\n",
    "        #d2=df[df[0]==f]\n",
    "        d2=df_test1[df_test1[0]==f]\n",
    "        counter+=len(d1)\n",
    "        flag=np.ones(len(d1))\n",
    "\n",
    "        for i in d2.iterrows():\n",
    "            flag1=0\n",
    "            counter1+=1\n",
    "            i=np.array(i)[1]\n",
    "            bbox1=get_bbox(i[1])\n",
    "            start=0\n",
    "            for j in d1.iterrows():\n",
    "                j=np.array(j)[1]\n",
    "                bbox2=get_bbox(list(j[1:5]))\n",
    "                if get_overlap(bbox1,bbox2)>0.5:\n",
    "                    if (i[2]==j[5]) :\n",
    "                        tp+=1\n",
    "                        flag[start]=0\n",
    "                        flag1=1\n",
    "\n",
    "            if flag1==0:\n",
    "                fp+=1\n",
    "\n",
    "        fn+=int(np.sum(flag))\n",
    "\n",
    "    if float(tp)/(tp+fn) <0.5:\n",
    "        print counter, 'should be equal to tp+fn=',tp+fn\n",
    "        print counter1, 'should be equal to tp+fp=',tp+fp\n",
    "        print tp,fp,fn\n",
    "        print l,score,'precison',float(tp)/(tp+fp),'recall',float(tp)/(tp+fn),'\\n'\n",
    "        list1.append(l)"
   ]
  },
  {
   "cell_type": "code",
   "execution_count": 21,
   "metadata": {
    "collapsed": false
   },
   "outputs": [],
   "source": [
    "auc=integrate.cumtrapz(range(44),range(44))*100"
   ]
  },
  {
   "cell_type": "code",
   "execution_count": 23,
   "metadata": {
    "collapsed": false
   },
   "outputs": [],
   "source": [
    "aucs=[]\n",
    "aucs.append(auc[-1])"
   ]
  },
  {
   "cell_type": "code",
   "execution_count": null,
   "metadata": {
    "collapsed": true
   },
   "outputs": [],
   "source": []
  }
 ],
 "metadata": {
  "kernelspec": {
   "display_name": "Python 2",
   "language": "python",
   "name": "python2"
  },
  "language_info": {
   "codemirror_mode": {
    "name": "ipython",
    "version": 2
   },
   "file_extension": ".py",
   "mimetype": "text/x-python",
   "name": "python",
   "nbconvert_exporter": "python",
   "pygments_lexer": "ipython2",
   "version": "2.7.6"
  }
 },
 "nbformat": 4,
 "nbformat_minor": 1
}
