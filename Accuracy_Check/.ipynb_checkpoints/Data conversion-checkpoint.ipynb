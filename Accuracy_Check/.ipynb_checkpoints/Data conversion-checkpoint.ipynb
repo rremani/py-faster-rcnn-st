{
 "cells": [
  {
   "cell_type": "code",
   "execution_count": 1,
   "metadata": {
    "collapsed": true
   },
   "outputs": [],
   "source": [
    "import pandas as pd\n",
    "import numpy as np\n",
    "import matplotlib.pyplot as plt\n",
    "from sklearn.metrics import roc_curve, auc\n",
    "from scipy import interp\n",
    "import os\n",
    "from data_accuracy import *\n",
    "\n",
    "\n",
    "%matplotlib inline"
   ]
  },
  {
   "cell_type": "markdown",
   "metadata": {},
   "source": [
    "# creating a predicted file in evaluation-detection.py format"
   ]
  },
  {
   "cell_type": "code",
   "execution_count": 98,
   "metadata": {
    "collapsed": false
   },
   "outputs": [
    {
     "name": "stdout",
     "output_type": "stream",
     "text": [
      "Enter the predicted txt file with path: /home/ce/Documents/py-faster-rcnn/Accuracy_Check/out_26_10_test.txt\n",
      "Number of files in which signs are detected 1961\n",
      "Bbox in float is updated to int\n",
      "Merging duplicates...\n",
      "2253\n",
      "2175\n",
      "['auto parking' 'bump ahead' 'bus stop ahead' 'car and taxi parking'\n",
      " 'compulsory keep left' 'cross road' 'cycle crossing' 'divide two side'\n",
      " 'eating place ahead' 'gap in median' 'go slow_red'\n",
      " 'guarded railway crossing' 'handicapped parking' 'horn prohibited'\n",
      " 'hospital ahead' 'left hand curve' 'no parking_blue' 'no parking_rb'\n",
      " 'no parking_red' 'no stopping and no parking' 'parking ahead'\n",
      " 'parking ahead_even' 'parking ahead_odd' 'parking both sides'\n",
      " 'parking on this side' 'pedestrian crossing' 'petrol pump'\n",
      " 'petrol pump ahead' 'public telephone ahead' 'right hand curve'\n",
      " 'school ahead' 'school ahead_blue' 'scooter and motor cycle parking'\n",
      " 'side road left' 'speed breaker' 'speed limit 100' 'speed limit 120'\n",
      " 'speed limit 30' 'speed limit 50' 'speed limit 60' 'speed limit 70'\n",
      " 'speed limit 80' 'stop' 't junction']\n",
      "Enter the class: speed limit 50\n",
      "(1, 5)\n"
     ]
    }
   ],
   "source": [
    "p = raw_input(\"Enter the predicted txt file with path: \")\n",
    "pred=pd.read_csv(p,sep=';',header=None,dtype={0:str}) #output of the test files\n",
    "print 'Number of files in which signs are detected',len(np.unique(pred[0]))\n",
    "\n",
    "# Updating the BBox which are in float to int\n",
    "pred[1]=pred[1].apply(lambda x:get_bbox(x))\n",
    "print 'Bbox in float is updated to int'\n",
    "\n",
    "\n",
    "print 'Merging duplicates...'\n",
    "print len(pred)\n",
    "pred.drop(merge_duplicates(pred),inplace=True)\n",
    "print len(pred)\n",
    "pred[2]=pred[2].str.lower()\n",
    "classes = np.unique(pred[2])\n",
    "print classes\n",
    "i=raw_input('Enter the class: ')\n",
    "##################################################################################\n",
    "\n",
    "###################################################################################\n",
    "\n",
    "\n",
    "\n",
    "# for i in classes:\n",
    "df_pred=pred[pred[2]==i]\n",
    "df_pred = pd.concat([df_pred.drop([1,3], axis=1), df_pred[1].apply(pd.Series)], axis=1)\n",
    "\n",
    "df_pred.columns=range(df_pred.shape[1])\n",
    "df_pred[0]=df_pred[1]+'_'+df_pred[0]\n",
    "df_pred=df_pred.drop(1,axis=1)\n",
    "df_pred.columns=range(df_pred.shape[1])\n",
    "df_pred=df_pred.iloc[[3]] # only to test the implementation\n",
    "print df_pred.shape\n",
    "df_pred.to_csv('/home/ce/Documents/py-faster-rcnn/Accuracy_Check/annotationTools/output_pred'+'_'+i+'.csv',sep=';',header=False,index=False)    "
   ]
  },
  {
   "cell_type": "code",
   "execution_count": 97,
   "metadata": {
    "collapsed": false
   },
   "outputs": [
    {
     "data": {
      "text/html": [
       "<div>\n",
       "<table border=\"1\" class=\"dataframe\">\n",
       "  <thead>\n",
       "    <tr style=\"text-align: right;\">\n",
       "      <th></th>\n",
       "      <th>0</th>\n",
       "      <th>1</th>\n",
       "      <th>2</th>\n",
       "      <th>3</th>\n",
       "      <th>4</th>\n",
       "    </tr>\n",
       "  </thead>\n",
       "  <tbody>\n",
       "    <tr>\n",
       "      <th>4</th>\n",
       "      <td>speed limit 50_00064</td>\n",
       "      <td>789</td>\n",
       "      <td>463</td>\n",
       "      <td>806</td>\n",
       "      <td>481</td>\n",
       "    </tr>\n",
       "  </tbody>\n",
       "</table>\n",
       "</div>"
      ],
      "text/plain": [
       "                      0    1    2    3    4\n",
       "4  speed limit 50_00064  789  463  806  481"
      ]
     },
     "execution_count": 97,
     "metadata": {},
     "output_type": "execute_result"
    }
   ],
   "source": [
    "df_pred.iloc[[3]]"
   ]
  },
  {
   "cell_type": "markdown",
   "metadata": {},
   "source": [
    "# Creating the annotations file in format of evaluation.py"
   ]
  },
  {
   "cell_type": "code",
   "execution_count": 101,
   "metadata": {
    "collapsed": false
   },
   "outputs": [
    {
     "name": "stdout",
     "output_type": "stream",
     "text": [
      "Enter the predicted txt file with path: /home/ce/Documents/py-faster-rcnn/Accuracy_Check/train_gtsdb.txt\n",
      "Number of files in which signs are detected 1961\n",
      "       0     1    2     3    4               5\n",
      "0  00005  1172  164  1284  278   no overtaking\n",
      "1  00006   926  350   989  414  speed limit 50\n",
      "2  00007   825  406   864  445   no overtaking\n",
      "3  00009   925  466   949  490  speed limit 70\n",
      "4  00012   979  364  1034  418  speed limit 30\n",
      "Enter the column number to extract the classes: 5\n",
      "['no overtaking' 'no overtaking (trucks)' 'no traffic both ways'\n",
      " 'no trucks' 'restriction ends 80 (other)' 'speed limit 100'\n",
      " 'speed limit 120' 'speed limit 20' 'speed limit 30' 'speed limit 50'\n",
      " 'speed limit 60' 'speed limit 70' 'speed limit 80']\n",
      "Enter the class: speed limit 50\n",
      "Enter column number: 5\n",
      "(50, 6)\n"
     ]
    }
   ],
   "source": [
    "a = raw_input(\"Enter the predicted txt file with path: \")\n",
    "anno=pd.read_csv(a,sep=';',header=None,dtype={0:str}) #output of the test files\n",
    "print 'Number of files in which signs are detected',len(np.unique(pred[0]))\n",
    "print anno.head()\n",
    "\n",
    "classes = np.unique(anno[int(raw_input(\"Enter the column number to extract the classes: \"))])\n",
    "print classes\n",
    "##################################################################################\n",
    "\n",
    "###################################################################################\n",
    "i = raw_input('Enter the class: ')\n",
    "j = int(raw_input('Enter column number: '))\n",
    "\n",
    "# for i in classes:\n",
    "df_anno=anno[anno[j]==i]\n",
    "print df_anno.shape\n",
    "df_anno.columns=[0,2,3,4,5,1]\n",
    "columns=[0,1,2,3,4,5]\n",
    "df_anno=df_anno[columns]\n",
    "df_anno[0]=df_anno[1]+'_'+df_anno[0]\n",
    "df_anno=df_anno.iloc[[5]] # only to test the implementation\n",
    "df_anno.to_csv('/home/ce/Documents/py-faster-rcnn/Accuracy_Check/annotationTools/input_anno.csv',sep=';',header=True,index=False) \n",
    "#     df_pred = pd.concat([df_pred.drop([1,3], axis=1), df_pred[1].apply(pd.Series)], axis=1)\n",
    "    \n",
    "#     df_pred.columns=range(df_pred.shape[1])\n",
    "#     df_pred[0]=df_pred[1]+'_'+df_pred[0]\n",
    "#     df_pred=df_pred.drop(1,axis=1)\n",
    "#     df_pred.columns=range(df_pred.shape[1])\n",
    "#     print df_pred.head()"
   ]
  },
  {
   "cell_type": "code",
   "execution_count": 100,
   "metadata": {
    "collapsed": false
   },
   "outputs": [
    {
     "data": {
      "text/html": [
       "<div>\n",
       "<table border=\"1\" class=\"dataframe\">\n",
       "  <thead>\n",
       "    <tr style=\"text-align: right;\">\n",
       "      <th></th>\n",
       "      <th>0</th>\n",
       "      <th>1</th>\n",
       "      <th>2</th>\n",
       "      <th>3</th>\n",
       "      <th>4</th>\n",
       "      <th>5</th>\n",
       "    </tr>\n",
       "  </thead>\n",
       "  <tbody>\n",
       "    <tr>\n",
       "      <th>15</th>\n",
       "      <td>speed limit 50_00064</td>\n",
       "      <td>speed limit 50</td>\n",
       "      <td>786</td>\n",
       "      <td>447</td>\n",
       "      <td>808</td>\n",
       "      <td>470</td>\n",
       "    </tr>\n",
       "  </tbody>\n",
       "</table>\n",
       "</div>"
      ],
      "text/plain": [
       "                       0               1    2    3    4    5\n",
       "15  speed limit 50_00064  speed limit 50  786  447  808  470"
      ]
     },
     "execution_count": 100,
     "metadata": {},
     "output_type": "execute_result"
    }
   ],
   "source": [
    "df_anno.iloc[[5]]"
   ]
  },
  {
   "cell_type": "code",
   "execution_count": null,
   "metadata": {
    "collapsed": true
   },
   "outputs": [],
   "source": []
  }
 ],
 "metadata": {
  "kernelspec": {
   "display_name": "Python 2",
   "language": "python",
   "name": "python2"
  },
  "language_info": {
   "codemirror_mode": {
    "name": "ipython",
    "version": 2
   },
   "file_extension": ".py",
   "mimetype": "text/x-python",
   "name": "python",
   "nbconvert_exporter": "python",
   "pygments_lexer": "ipython2",
   "version": "2.7.6"
  }
 },
 "nbformat": 4,
 "nbformat_minor": 1
}
