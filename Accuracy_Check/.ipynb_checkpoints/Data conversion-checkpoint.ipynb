{
 "cells": [
  {
   "cell_type": "code",
   "execution_count": 1,
   "metadata": {
    "collapsed": true
   },
   "outputs": [],
   "source": [
    "import pandas as pd\n",
    "import numpy as np\n",
    "import matplotlib.pyplot as plt\n",
    "from sklearn.metrics import roc_curve, auc\n",
    "from scipy import interp\n",
    "import os\n",
    "from data_accuracy import *\n",
    "\n",
    "\n",
    "%matplotlib inline"
   ]
  },
  {
   "cell_type": "markdown",
   "metadata": {},
   "source": [
    "# creating a predicted file in evaluation-detection.py format"
   ]
  },
  {
   "cell_type": "code",
   "execution_count": 52,
   "metadata": {
    "collapsed": false
   },
   "outputs": [
    {
     "name": "stdout",
     "output_type": "stream",
     "text": [
      "Enter the predicted txt file with path: /home/ce/Documents/py-faster-rcnn/Accuracy_Check/out_26_10_test.txt\n",
      "Number of files in which signs are detected 1961\n",
      "Bbox in float is updated to int\n",
      "Merging duplicates...\n",
      "2253\n",
      "2175\n",
      "['Auto Parking' 'Bump Ahead' 'Bus Stop Ahead' 'Car And Taxi Parking'\n",
      " 'Compulsory Keep Left' 'Cross Road' 'Cycle Crossing' 'Divide Two Side'\n",
      " 'Eating Place Ahead' 'Gap In Median' 'Go Slow_red'\n",
      " 'Guarded Railway Crossing' 'Handicapped Parking' 'Horn Prohibited'\n",
      " 'Hospital Ahead' 'Left Hand Curve' 'No Parking_blue' 'No Parking_rb'\n",
      " 'No Parking_red' 'No Stopping And No Parking' 'Parking Ahead'\n",
      " 'Parking Ahead_even' 'Parking Ahead_odd' 'Parking Both Sides'\n",
      " 'Parking On This Side' 'Pedestrian Crossing' 'Petrol Pump'\n",
      " 'Petrol Pump Ahead' 'Public Telephone Ahead' 'Right Hand Curve'\n",
      " 'School Ahead' 'School Ahead_blue' 'Scooter And Motor Cycle Parking'\n",
      " 'Side Road Left' 'Speed Breaker' 'Speed Limit 100' 'Speed Limit 120'\n",
      " 'Speed Limit 30' 'Speed Limit 50' 'Speed Limit 60' 'Speed Limit 70'\n",
      " 'Speed Limit 80' 'Stop' 'T Junction']\n",
      "Enter the class: Speed Limit 50\n",
      "(27, 5)\n"
     ]
    }
   ],
   "source": [
    "p = raw_input(\"Enter the predicted txt file with path: \")\n",
    "pred=pd.read_csv(p,sep=';',header=None,dtype={0:str}) #output of the test files\n",
    "print 'Number of files in which signs are detected',len(np.unique(pred[0]))\n",
    "\n",
    "# Updating the BBox which are in float to int\n",
    "pred[1]=pred[1].apply(lambda x:get_bbox(x))\n",
    "print 'Bbox in float is updated to int'\n",
    "\n",
    "\n",
    "print 'Merging duplicates...'\n",
    "print len(pred)\n",
    "pred.drop(merge_duplicates(pred),inplace=True)\n",
    "print len(pred)\n",
    "classes = np.unique(pred[2])\n",
    "print classes\n",
    "i=raw_input('Enter the class: ')\n",
    "##################################################################################\n",
    "\n",
    "###################################################################################\n",
    "\n",
    "\n",
    "\n",
    "# for i in classes:\n",
    "df_pred=pred[pred[2]==i]\n",
    "df_pred = pd.concat([df_pred.drop([1,3], axis=1), df_pred[1].apply(pd.Series)], axis=1)\n",
    "\n",
    "df_pred.columns=range(df_pred.shape[1])\n",
    "df_pred[0]=df_pred[1]+'_'+df_pred[0]\n",
    "df_pred=df_pred.drop(1,axis=1)\n",
    "df_pred.columns=range(df_pred.shape[1])\n",
    "print df_pred.shape\n",
    "df_pred.to_csv('/home/ce/Documents/py-faster-rcnn/Accuracy_Check/annotationTools/output_pred'+'_'+i+'.csv',sep=';',header=False,index=False)    "
   ]
  },
  {
   "cell_type": "markdown",
   "metadata": {},
   "source": [
    "# Creating the annotations file in format of evaluation.py"
   ]
  },
  {
   "cell_type": "code",
   "execution_count": 45,
   "metadata": {
    "collapsed": false
   },
   "outputs": [
    {
     "name": "stdout",
     "output_type": "stream",
     "text": [
      "Enter the predicted txt file with path: /home/ce/Documents/py-faster-rcnn/Accuracy_Check/train_gtsdb.txt\n",
      "Number of files in which signs are detected 1961\n",
      "       0     1    2     3    4               5\n",
      "0  00005  1172  164  1284  278   no overtaking\n",
      "1  00006   926  350   989  414  speed limit 50\n",
      "2  00007   825  406   864  445   no overtaking\n",
      "3  00009   925  466   949  490  speed limit 70\n",
      "4  00012   979  364  1034  418  speed limit 30\n",
      "Enter the column number to extract the classes: 5\n",
      "['no overtaking' 'no overtaking (trucks)' 'no traffic both ways'\n",
      " 'no trucks' 'restriction ends 80 (other)' 'speed limit 100'\n",
      " 'speed limit 120' 'speed limit 20' 'speed limit 30' 'speed limit 50'\n",
      " 'speed limit 60' 'speed limit 70' 'speed limit 80']\n",
      "Enter the class: speed limit 50\n",
      "Enter column number: 5\n",
      "(50, 6)\n"
     ]
    }
   ],
   "source": [
    "a = raw_input(\"Enter the predicted txt file with path: \")\n",
    "anno=pd.read_csv(a,sep=';',header=None,dtype={0:str}) #output of the test files\n",
    "print 'Number of files in which signs are detected',len(np.unique(pred[0]))\n",
    "print anno.head()\n",
    "\n",
    "classes = np.unique(anno[int(raw_input(\"Enter the column number to extract the classes: \"))])\n",
    "print classes\n",
    "##################################################################################\n",
    "\n",
    "###################################################################################\n",
    "i = raw_input('Enter the class: ')\n",
    "j = int(raw_input('Enter column number: '))\n",
    "\n",
    "# for i in classes:\n",
    "df_anno=anno[anno[j]==i]\n",
    "print df_anno.shape\n",
    "\n",
    "\n",
    "\n",
    "#     df_pred = pd.concat([df_pred.drop([1,3], axis=1), df_pred[1].apply(pd.Series)], axis=1)\n",
    "    \n",
    "#     df_pred.columns=range(df_pred.shape[1])\n",
    "#     df_pred[0]=df_pred[1]+'_'+df_pred[0]\n",
    "#     df_pred=df_pred.drop(1,axis=1)\n",
    "#     df_pred.columns=range(df_pred.shape[1])\n",
    "#     print df_pred.head()"
   ]
  },
  {
   "cell_type": "code",
   "execution_count": 68,
   "metadata": {
    "collapsed": false
   },
   "outputs": [
    {
     "name": "stdout",
     "output_type": "stream",
     "text": [
      "1      speed limit 50\n",
      "5      speed limit 50\n",
      "8      speed limit 50\n",
      "9      speed limit 50\n",
      "13     speed limit 50\n",
      "15     speed limit 50\n",
      "18     speed limit 50\n",
      "42     speed limit 50\n",
      "50     speed limit 50\n",
      "51     speed limit 50\n",
      "52     speed limit 50\n",
      "61     speed limit 50\n",
      "63     speed limit 50\n",
      "67     speed limit 50\n",
      "68     speed limit 50\n",
      "69     speed limit 50\n",
      "75     speed limit 50\n",
      "76     speed limit 50\n",
      "77     speed limit 50\n",
      "80     speed limit 50\n",
      "81     speed limit 50\n",
      "95     speed limit 50\n",
      "96     speed limit 50\n",
      "103    speed limit 50\n",
      "109    speed limit 50\n",
      "113    speed limit 50\n",
      "115    speed limit 50\n",
      "116    speed limit 50\n",
      "120    speed limit 50\n",
      "135    speed limit 50\n",
      "150    speed limit 50\n",
      "152    speed limit 50\n",
      "255    speed limit 50\n",
      "266    speed limit 50\n",
      "319    speed limit 50\n",
      "320    speed limit 50\n",
      "324    speed limit 50\n",
      "330    speed limit 50\n",
      "346    speed limit 50\n",
      "350    speed limit 50\n",
      "354    speed limit 50\n",
      "355    speed limit 50\n",
      "391    speed limit 50\n",
      "392    speed limit 50\n",
      "393    speed limit 50\n",
      "395    speed limit 50\n",
      "397    speed limit 50\n",
      "398    speed limit 50\n",
      "402    speed limit 50\n",
      "403    speed limit 50\n",
      "Name: 5, dtype: object\n"
     ]
    },
    {
     "data": {
      "text/html": [
       "<div>\n",
       "<table border=\"1\" class=\"dataframe\">\n",
       "  <thead>\n",
       "    <tr style=\"text-align: right;\">\n",
       "      <th></th>\n",
       "      <th>0</th>\n",
       "      <th>5</th>\n",
       "    </tr>\n",
       "  </thead>\n",
       "  <tbody>\n",
       "    <tr>\n",
       "      <th>1</th>\n",
       "      <td>00006</td>\n",
       "      <td>NaN</td>\n",
       "    </tr>\n",
       "    <tr>\n",
       "      <th>5</th>\n",
       "      <td>00013</td>\n",
       "      <td>NaN</td>\n",
       "    </tr>\n",
       "    <tr>\n",
       "      <th>8</th>\n",
       "      <td>00027</td>\n",
       "      <td>NaN</td>\n",
       "    </tr>\n",
       "    <tr>\n",
       "      <th>9</th>\n",
       "      <td>00027</td>\n",
       "      <td>NaN</td>\n",
       "    </tr>\n",
       "    <tr>\n",
       "      <th>13</th>\n",
       "      <td>00061</td>\n",
       "      <td>NaN</td>\n",
       "    </tr>\n",
       "  </tbody>\n",
       "</table>\n",
       "</div>"
      ],
      "text/plain": [
       "        0    5\n",
       "1   00006  NaN\n",
       "5   00013  NaN\n",
       "8   00027  NaN\n",
       "9   00027  NaN\n",
       "13  00061  NaN"
      ]
     },
     "execution_count": 68,
     "metadata": {},
     "output_type": "execute_result"
    }
   ],
   "source": [
    "df_label=df_anno[5]\n",
    "print df_label\n",
    "df_images=df_anno[0]\n",
    "df_anno_new = pd.concat([pd.DataFrame(df_images), pd.DataFrame(df_label)])\n",
    "df_anno_new.head()"
   ]
  },
  {
   "cell_type": "code",
   "execution_count": 53,
   "metadata": {
    "collapsed": false
   },
   "outputs": [
    {
     "name": "stdout",
     "output_type": "stream",
     "text": [
      "Enter the predicted txt file with path: /home/ce/Documents/py-faster-rcnn/Accuracy_Check/annotationTools/sampleResults/stop-split2.csv\n"
     ]
    }
   ],
   "source": [
    "b = raw_input(\"Enter the predicted txt file with path: \")\n",
    "x=pd.read_csv(b,sep=';',header=0,dtype={0:str}) #output of the test files"
   ]
  },
  {
   "cell_type": "code",
   "execution_count": 56,
   "metadata": {
    "collapsed": false
   },
   "outputs": [
    {
     "data": {
      "text/plain": [
       "(10,)"
      ]
     },
     "execution_count": 56,
     "metadata": {},
     "output_type": "execute_result"
    }
   ],
   "source": [
    "x.columns.shape"
   ]
  },
  {
   "cell_type": "code",
   "execution_count": null,
   "metadata": {
    "collapsed": true
   },
   "outputs": [],
   "source": []
  }
 ],
 "metadata": {
  "kernelspec": {
   "display_name": "Python 2",
   "language": "python",
   "name": "python2"
  },
  "language_info": {
   "codemirror_mode": {
    "name": "ipython",
    "version": 2
   },
   "file_extension": ".py",
   "mimetype": "text/x-python",
   "name": "python",
   "nbconvert_exporter": "python",
   "pygments_lexer": "ipython2",
   "version": "2.7.6"
  }
 },
 "nbformat": 4,
 "nbformat_minor": 1
}
